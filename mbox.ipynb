{
 "cells": [
  {
   "cell_type": "code",
   "execution_count": 59,
   "metadata": {},
   "outputs": [],
   "source": [
    "import numpy as np\n",
    "import matplotlib.pyplot as plt\n",
    "\n",
    "def dircos(incl,decl,azim):\n",
    "    '''\n",
    "    c\n",
    "    c  Subroutine DIRCOS computes direction cosines from inclination\n",
    "    c  and declination.\n",
    "    c\n",
    "    c  Input parameters:\n",
    "    c    incl:  inclination in degrees positive below horizontal.  \n",
    "    c    decl:  declination in degrees positive east of true north.  \n",
    "    c    azim:  azimuth of x axis in degrees positive east of north.\n",
    "    c\n",
    "    c  Output parameters:\n",
    "    c    a,b,c:  the three direction cosines.\n",
    "    c\n",
    "    '''\n",
    "    d2rad = .017453293\n",
    "    xincl=incl*d2rad\n",
    "    xdecl=decl*d2rad\n",
    "    xazim=azim*d2rad \n",
    "    a=np.cos(xincl)*np.cos(xdecl-xazim)\n",
    "    b=np.cos(xincl)*np.sin(xdecl-xazim)\n",
    "    c=np.sin(xincl)\n",
    "\n",
    "    return a,b,c\n",
    "\n",
    "    \n",
    "    \n",
    "def mbox(x0,y0,z0,x1,y1,z1,x2,y2,mi,md,fi,fd,m,theta):\n",
    "    '''\n",
    "    c\n",
    "    c  Subroutine MBOX computes the total field anomaly of an infinitely \n",
    "    c  extended rectangular prism.  Sides of prism are parallel to x,y,z \n",
    "    c  axes, and z is vertical down.  Bottom of prism extends to infinity.\n",
    "    c  Two calls to mbox can provide the anomaly of a prism with finite \n",
    "    c  thickness; e.g., \n",
    "    c\n",
    "    c     call mbox(x0,y0,z0,x1,y1,z1,x2,y2,mi,md,fi,fd,m,theta,t1)\n",
    "    c     call mbox(x0,y0,z0,x1,y1,z2,x2,y2,mi,md,fi,fd,m,theta,t2)\n",
    "    c     t=t1-t2\n",
    "    c\n",
    "    c  Requires subroutine DIRCOS.  Method from Bhattacharyya (1964).\n",
    "    c\n",
    "    c  Input parameters:\n",
    "    c    Observation point is (x0,y0,z0).  Prism extends from x1 to \n",
    "    c    x2, y1 to y2, and z1 to infinity in x, y, and z directions, \n",
    "    c    respectively.  Magnetization defined by inclination mi, \n",
    "    c    declination md, intensity m.  Ambient field defined by \n",
    "    c    inclination fi and declination fd.  X axis has declination \n",
    "    c    theta. Distance units are irrelevant but must be consistent.  \n",
    "    c    Angles are in degrees, with inclinations positive below \n",
    "    c    horizontal and declinations positive east of true north.\n",
    "    c    Magnetization in A/m.\n",
    "    c\n",
    "    c  Output paramters:\n",
    "    c    Total field anomaly t, in nT.\n",
    "    c\n",
    "    '''\n",
    "    alpha = np.zeros((2,))\n",
    "    beta = np.zeros((2,))\n",
    "    cm = 1.e-7\n",
    "    t2nt = 1.e9\n",
    "    ma,mb,mc = dircos(mi,md,theta)\n",
    "    fa,fb,fc = dircos(fi,fd,theta)\n",
    "    fm1=ma*fb+mb*fa\n",
    "    fm2=ma*fc+mc*fa\n",
    "    fm3=mb*fc+mc*fb\n",
    "    fm4=ma*fa\n",
    "    fm5=mb*fb\n",
    "    fm6=mc*fc\n",
    "    alpha[0]=x1-x0\n",
    "    alpha[1]=x2-x0\n",
    "    beta[0]=y1-y0\n",
    "    beta[1]=y2-y0\n",
    "    h=z1-z0\n",
    "    t=0.\n",
    "    hsq=h**2\n",
    "    #print(z1)\n",
    "    for i in [0,1]:\n",
    "        alphasq=alpha[i]**2\n",
    "        for j in [0,1]:\n",
    "            sign=1.\n",
    "            if i!=j:\n",
    "                sign = -1.\n",
    "                #print('{:d} {:d} here'.format(i,j))\n",
    "            r0sq=alphasq+beta[j]**2+hsq\n",
    "            r0=np.sqrt(r0sq)\n",
    "            r0h=r0*h\n",
    "            alphabeta=alpha[i]*beta[j]\n",
    "            arg1=(r0-alpha[i])/(r0+alpha[i])\n",
    "            arg2=(r0-beta[j])/(r0+beta[j])\n",
    "            arg3=alphasq+r0h+hsq\n",
    "            arg4=r0sq+r0h-alphasq\n",
    "            tlog=fm3*np.log(arg1)/2.+fm2*np.log(arg2)/2.-fm1*np.log(r0+h)\n",
    "            tatan=-fm4*np.arctan2(alphabeta,arg3)-fm5*np.arctan2(alphabeta,arg4)+fm6*np.arctan2(alphabeta,r0h)\n",
    "            t=t+sign*(tlog+tatan)\n",
    "    t=t*m*cm*t2nt\n",
    "\n",
    "    return t\n"
   ]
  },
  {
   "cell_type": "code",
   "execution_count": 76,
   "metadata": {},
   "outputs": [
    {
     "data": {
      "text/plain": [
       "[<matplotlib.lines.Line2D at 0x157d3cf40>]"
      ]
     },
     "execution_count": 76,
     "metadata": {},
     "output_type": "execute_result"
    },
    {
     "data": {
      "image/png": "[encoded data removed]",
      "text/plain": [
       "<Figure size 432x288 with 1 Axes>"
      ]
     },
     "metadata": {
      "needs_background": "light"
     },
     "output_type": "display_data"
    }
   ],
   "source": [
    "# Values from Nimmo (2000)\n",
    "obs_x = 0.\n",
    "obs_y = 0.\n",
    "obs_z = 100.\n",
    "x1 = -10.\n",
    "x2 = 10.\n",
    "y1 = -1000.\n",
    "y2 = 1000.\n",
    "z1 = 5.\n",
    "mi = 60.\n",
    "md = 0.\n",
    "fi = 60.\n",
    "fd = 0.\n",
    "m = 10.\n",
    "theta = 0.\n",
    "\n",
    "layer_thickness = 10.\n",
    "\n",
    "profile_X = np.arange(-500.,500.,10.)\n",
    "profile_Z = []\n",
    "for obs_x in profile_X:\n",
    "    t1 = mbox(obs_x,obs_y,obs_z,x1,y1,z1,x2,y2,mi,md,fi,fd,m,theta)\n",
    "    t2 = mbox(obs_x,obs_y,obs_z,x1,y1,z1+layer_thickness,x2,y2,mi,md,fi,fd,m,theta)\n",
    "    profile_Z.append(t1-t2)\n",
    "    #profile_Z.append(t1)\n",
    "    \n",
    "plt.plot(profile_X,profile_Z)"
   ]
  },
  {
   "cell_type": "code",
   "execution_count": null,
   "metadata": {},
   "outputs": [],
   "source": []
  }
 ],
 "metadata": {
  "kernelspec": {
   "display_name": "Python [conda env:pygmt]",
   "language": "python",
   "name": "conda-env-pygmt-py"
  },
  "language_info": {
   "codemirror_mode": {
    "name": "ipython",
    "version": 3
   },
   "file_extension": ".py",
   "mimetype": "text/x-python",
   "name": "python",
   "nbconvert_exporter": "python",
   "pygments_lexer": "ipython3",
   "version": "3.8.6"
  }
 },
 "nbformat": 4,
 "nbformat_minor": 4
}
